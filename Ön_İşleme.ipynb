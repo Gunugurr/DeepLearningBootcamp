{
  "nbformat": 4,
  "nbformat_minor": 0,
  "metadata": {
    "colab": {
      "provenance": [],
      "collapsed_sections": [],
      "authorship_tag": "ABX9TyOTV1D08DmQrcFsIzfHpxCK",
      "include_colab_link": true
    },
    "kernelspec": {
      "name": "python3",
      "display_name": "Python 3"
    },
    "language_info": {
      "name": "python"
    }
  },
  "cells": [
    {
      "cell_type": "markdown",
      "metadata": {
        "id": "view-in-github",
        "colab_type": "text"
      },
      "source": [
        "<a href=\"https://colab.research.google.com/github/Gunugurr/DeepLearningBootcamp/blob/main/%C3%96n_%C4%B0%C5%9Fleme.ipynb\" target=\"_parent\"><img src=\"https://colab.research.google.com/assets/colab-badge.svg\" alt=\"Open In Colab\"/></a>"
      ]
    },
    {
      "cell_type": "code",
      "execution_count": null,
      "metadata": {
        "id": "ZNcy4iypFKLH",
        "colab": {
          "base_uri": "https://localhost:8080/"
        },
        "outputId": "30e6da08-401c-4ee3-d905-5ae8c6ee9019"
      },
      "outputs": [
        {
          "output_type": "stream",
          "name": "stdout",
          "text": [
            "Mounted at /content/drive\n"
          ]
        }
      ],
      "source": [
        "from google.colab import drive\n",
        "drive.mount('/content/drive')"
      ]
    },
    {
      "cell_type": "code",
      "source": [
        "import cv2"
      ],
      "metadata": {
        "id": "s7i89Ml4ehMS"
      },
      "execution_count": null,
      "outputs": []
    },
    {
      "cell_type": "code",
      "source": [
        "from google.colab.patches import cv2_imshow"
      ],
      "metadata": {
        "id": "ykgdRO2s-Esa"
      },
      "execution_count": null,
      "outputs": []
    },
    {
      "cell_type": "code",
      "source": [
        "def create_spectogram(y):\n",
        "   spec = librosa.feature.melspectogram(y = y)\n",
        "   spec_conv = librosa.amplitude_to_db(spec, ref = np.max)\n",
        "   return spec_conv"
      ],
      "metadata": {
        "id": "CUYBJuwueYF8"
      },
      "execution_count": null,
      "outputs": []
    },
    {
      "cell_type": "code",
      "source": [
        "img = cv2.imread(\"drive/MyDrive/spectograms/\")"
      ],
      "metadata": {
        "id": "siv7TM4BsiLe"
      },
      "execution_count": null,
      "outputs": []
    },
    {
      "cell_type": "code",
      "source": [
        "import glob\n",
        "import cv2\n",
        "from skimage.filters import gaussian\n",
        "from skimage import img_as_ubyte\n",
        "\n",
        "path = \"Spectograms/spectrograms/0/*.*\"\n",
        "img_number = 1"
      ],
      "metadata": {
        "id": "8SVZ-Njv-p9L"
      },
      "execution_count": null,
      "outputs": []
    },
    {
      "cell_type": "code",
      "source": [
        "for file in glob.glob(path):\n",
        "  print(file)\n",
        "  img = cv2.imread(file, 0)\n",
        "\n",
        "  smoothed_image = img_as_ubyte(gaussian(img, sigma = 5, mode = 'constant', cval = 0.0))\n",
        "\n",
        "  cv2.imwrite(\"Spectograms/spectrograms/0_new\" + str(img_number) + \"\")\n",
        "  img_number += 1"
      ],
      "metadata": {
        "id": "oRakfGGkErDf"
      },
      "execution_count": null,
      "outputs": []
    }
  ]
}